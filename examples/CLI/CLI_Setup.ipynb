{
 "cells": [
  {
   "cell_type": "markdown",
   "metadata": {},
   "source": [
    "## Introduction\n",
    "\n",
    "\n",
    "In this notebook, we setup the Bluemix CLI tools ready to interact with the IBM Analytics Engine.\n",
    "\n",
    "---"
   ]
  },
  {
   "cell_type": "markdown",
   "metadata": {},
   "source": [
    "This notebook uses the Bluemix CLI (bx) rather than the Cloud Foundry CLI (cf).  The reason behind this decision is that with the Bluemix CLI, we can create and save an api key which is much easier to work with.\n",
    "\n",
    "If you haven't already installed the Bluemix CLI, install it from here: https://clis.ng.bluemix.net/ui/home.html"
   ]
  },
  {
   "cell_type": "markdown",
   "metadata": {},
   "source": [
    "Now check you have the bx tool installed by running the following command.  You should see a version string printed out."
   ]
  },
  {
   "cell_type": "code",
   "execution_count": null,
   "metadata": {
    "collapsed": true
   },
   "outputs": [],
   "source": [
    "! bx -v"
   ]
  },
  {
   "cell_type": "markdown",
   "metadata": {},
   "source": [
    "Note from above that we execute the Bluemix CLI tools from a notebook cell. We do this by proceeding the command with `!`."
   ]
  },
  {
   "cell_type": "markdown",
   "metadata": {},
   "source": [
    "The Bluemix CLI needs to be configured to communicate with a specific Bluemix region.\n",
    "\n",
    "The regions are:\n",
    "\n",
    "- Dallas    - https://api.ng.bluemix.net \n",
    "- London    - https://api.eu-gb.bluemix.net \n",
    "- Frankfurt - https://api.eu-de.bluemix.net\n",
    "- Sydney    - https://api.au-syd.bluemix.net\n",
    "\n",
    "Set the python variable below to your chosen region.  I've choosen Dallas because the IBM Analytics Engine is currently only available in that region."
   ]
  },
  {
   "cell_type": "code",
   "execution_count": null,
   "metadata": {
    "collapsed": true
   },
   "outputs": [],
   "source": [
    "api = 'https://api.ng.bluemix.net'"
   ]
  },
  {
   "cell_type": "markdown",
   "metadata": {},
   "source": [
    "Now login to Bluemix switch to the Account, Organisation and Space where you wish to provision an IAE Instance.\n",
    "\n",
    "<img src=\"../../images/create_api_key.png\" width=\"50%\"/>\n",
    "\n",
    "Create a new api key and download it to the folder where you installed these examples.  The filename is apiKey.json.\n",
    "\n",
    "We can then login using the Bluemix CLI and your API key. Note ...\n",
    " - we are telling the CLI to look in the grandparent folder to this notebook for the api key file\n",
    " - we are executing the shell command with `!` but we are able to pass the python `api` variable with `{api}`."
   ]
  },
  {
   "cell_type": "code",
   "execution_count": null,
   "metadata": {},
   "outputs": [],
   "source": [
    "! bx login -a {api} --apikey=@../../secrets/apiKey.json"
   ]
  },
  {
   "cell_type": "markdown",
   "metadata": {},
   "source": [
    "Next we want to get the name of the Bluemix organisation where we wish to provision IAE.  Let's list all of our orgs."
   ]
  },
  {
   "cell_type": "code",
   "execution_count": null,
   "metadata": {},
   "outputs": [],
   "source": [
    "! bx cf orgs"
   ]
  },
  {
   "cell_type": "markdown",
   "metadata": {},
   "source": [
    "My org is `chris.snow@uk.ibm.com`.  I am setting this value to the `org` variable below.  Set this accordingly for your environment."
   ]
  },
  {
   "cell_type": "code",
   "execution_count": null,
   "metadata": {
    "collapsed": true
   },
   "outputs": [],
   "source": [
    "org = 'chris.snow@uk.ibm.com'"
   ]
  },
  {
   "cell_type": "markdown",
   "metadata": {},
   "source": [
    "After setting the org variable, I can use it in the following command to set the target for the Bluemix CLI."
   ]
  },
  {
   "cell_type": "code",
   "execution_count": null,
   "metadata": {},
   "outputs": [],
   "source": [
    "! bx target -o {org}"
   ]
  },
  {
   "cell_type": "markdown",
   "metadata": {},
   "source": [
    "I then want to list all the spaces in this org:"
   ]
  },
  {
   "cell_type": "code",
   "execution_count": null,
   "metadata": {},
   "outputs": [],
   "source": [
    "! bx cf spaces"
   ]
  },
  {
   "cell_type": "markdown",
   "metadata": {},
   "source": [
    "Now set the `space` variable to your choosen space.  Mine is `dev`."
   ]
  },
  {
   "cell_type": "code",
   "execution_count": null,
   "metadata": {
    "collapsed": true
   },
   "outputs": [],
   "source": [
    "space = 'dev'"
   ]
  },
  {
   "cell_type": "markdown",
   "metadata": {},
   "source": [
    "We can then run `target` again, this time providing both the `org` and `space` values that we want to target."
   ]
  },
  {
   "cell_type": "code",
   "execution_count": null,
   "metadata": {},
   "outputs": [],
   "source": [
    "! bx target -o {org} -s {space}"
   ]
  },
  {
   "cell_type": "markdown",
   "metadata": {},
   "source": [
    "We have done setting up the Bluemix CLI.  We will now save our target details to a file so that we don't have to repeat this process every time we want to use the Bluemix CLI."
   ]
  },
  {
   "cell_type": "code",
   "execution_count": null,
   "metadata": {},
   "outputs": [],
   "source": [
    "import json\n",
    "\n",
    "target_endpoint = {\n",
    "    \"api\": api,\n",
    "    \"org\": org,\n",
    "    \"space\": space\n",
    "}\n",
    "\n",
    "with open('../../secrets/cf_target_endpoint.json', 'w') as data_file:    \n",
    "    json.dump(target_endpoint, data_file)"
   ]
  },
  {
   "cell_type": "markdown",
   "metadata": {},
   "source": [
    "Let's verify that we can read the target details"
   ]
  },
  {
   "cell_type": "code",
   "execution_count": null,
   "metadata": {},
   "outputs": [],
   "source": [
    "import json\n",
    "\n",
    "with open('../../secrets/cf_target_endpoint.json') as data_file:    \n",
    "    target_endpoint = json.load(data_file)\n",
    "   \n",
    "print('api: '   + target_endpoint['api'])\n",
    "print('org: '   + target_endpoint['org'])\n",
    "print('space: ' + target_endpoint['space'])"
   ]
  },
  {
   "cell_type": "markdown",
   "metadata": {},
   "source": [
    "That's it.  We have our api key and target endpoint details saved."
   ]
  },
  {
   "cell_type": "markdown",
   "metadata": {},
   "source": [
    "---"
   ]
  }
 ],
 "metadata": {
  "kernelspec": {
   "display_name": "Python 3",
   "language": "python",
   "name": "python3"
  },
  "language_info": {
   "codemirror_mode": {
    "name": "ipython",
    "version": 2
   },
   "file_extension": ".py",
   "mimetype": "text/x-python",
   "name": "python",
   "nbconvert_exporter": "python",
   "pygments_lexer": "ipython2",
   "version": "2.7.13"
  }
 },
 "nbformat": 4,
 "nbformat_minor": 2
}
