{
 "cells": [
  {
   "cell_type": "markdown",
   "metadata": {},
   "source": [
    "## Introduction\n",
    "\n",
    "\n",
    "In this notebook, we use the Bluemix CLI tools to create a new IBM Analytics Engine instance.\n",
    "\n",
    "*Prerequisites:* \n",
    "- You have worked through the notebook `examples/CLI/CLI_Setup.ipynb`\n",
    "\n",
    "*Recommended:*\n",
    "- You have worked through the notebook `examples/CLI/Provision_IAE.ipynb`\n",
    "\n",
    "---"
   ]
  },
  {
   "cell_type": "markdown",
   "metadata": {},
   "source": [
    "First let's set this notebook to use the full browser width."
   ]
  },
  {
   "cell_type": "code",
   "execution_count": null,
   "metadata": {},
   "outputs": [],
   "source": [
    "from IPython.core.display import display, HTML\n",
    "display(HTML(\"<style>.container { width:100% !important; }</style>\"))"
   ]
  },
  {
   "cell_type": "markdown",
   "metadata": {},
   "source": [
    "We can read some variables saved when we ran the notebook `examples/CLI/CLI_Setup.ipynb` to configure our choosen api, org and space"
   ]
  },
  {
   "cell_type": "code",
   "execution_count": null,
   "metadata": {},
   "outputs": [],
   "source": [
    "import json\n",
    "\n",
    "with open('../../target_endpoint.json') as data_file:    \n",
    "    target_endpoint = json.load(data_file)\n",
    "    \n",
    "api   = target_endpoint['api']\n",
    "org   = target_endpoint['org']\n",
    "space = target_endpoint['space']\n",
    "   \n",
    "print('api: '   + api)\n",
    "print('org: '   + org)\n",
    "print('space: ' + space)"
   ]
  },
  {
   "cell_type": "markdown",
   "metadata": {},
   "source": [
    "Create a file `../../cos_s3_endpoint.json` with your COS credentials.  The file format should be:\n",
    "\n",
    "```\n",
    "{\n",
    "   \"S3_ACCESS_KEY\": \"<AccessKey-changeme>\",\n",
    "   \"S3_ENDPOINT\":   \"<EndPoint-changeme>\",\n",
    "   \"S3_SECRET_KEY\": \"<SecretKey-changeme>\"\n",
    "}\n",
    "```"
   ]
  },
  {
   "cell_type": "code",
   "execution_count": null,
   "metadata": {},
   "outputs": [],
   "source": [
    "with open('../../cos_s3_endpoint.json') as data_file:    \n",
    "    cos_s3_endpoint = json.load(data_file)\n",
    "    \n",
    "S3_ACCESS_KEY = cos_s3_endpoint['S3_ACCESS_KEY']\n",
    "S3_ENDPOINT   = cos_s3_endpoint['S3_ENDPOINT']\n",
    "S3_SECRET_KEY = cos_s3_endpoint['S3_SECRET_KEY']\n",
    "\n",
    "print('S3 Endpoint: ' + S3_ENDPOINT)"
   ]
  },
  {
   "cell_type": "markdown",
   "metadata": {},
   "source": [
    "We can login to Bluemix using the Bluemix CLI"
   ]
  },
  {
   "cell_type": "code",
   "execution_count": null,
   "metadata": {},
   "outputs": [],
   "source": [
    "! bx login --apikey @../../apiKey.json -a {api} -o {org} -s {space}"
   ]
  },
  {
   "cell_type": "code",
   "execution_count": null,
   "metadata": {
    "collapsed": true
   },
   "outputs": [],
   "source": [
    "custom_script = { \n",
    "    \"num_compute_nodes\": 1, \n",
    "    \"hardware_config\": \"Standard\", \n",
    "    \"software_package\": \"ae-1.0-spark\",\n",
    "    \"customization\": [{\n",
    "        \"name\": \"action1\",\n",
    "        \"type\": \"bootstrap\",\n",
    "        \"script\": {\n",
    "            \"source_type\": \"http\",\n",
    "            \"script_path\": \"http://raw.githubusercontent.com/snowch/IBM_Analytics_Engine_Examples/master/scripts/COS_S3.sh\"\n",
    "            },\n",
    "        \"script_params\": [S3_ACCESS_KEY, S3_ENDPOINT, S3_SECRET_KEY]\n",
    "        }]\n",
    "}\n",
    "\n",
    "with open('custom_script.json', 'w') as f:\n",
    "    f.write(json.dumps(custom_script))"
   ]
  },
  {
   "cell_type": "markdown",
   "metadata": {},
   "source": [
    "We can then attempt to create an IBM Analytics Engine Instance."
   ]
  },
  {
   "cell_type": "code",
   "execution_count": null,
   "metadata": {},
   "outputs": [],
   "source": [
    "! bx cf create-service IBMAnalyticsEngine Standard 'myiaeinstance' -c custom_script.json"
   ]
  },
  {
   "cell_type": "markdown",
   "metadata": {},
   "source": [
    "Note the output from above.\n",
    "\n",
    "TODO - add recommendations for errors.\n",
    "\n",
    "If all went ok, the CLI should suggest running `cf service myiaeinstance` to check the provisioning status. \n",
    "\n",
    "Let's do that now."
   ]
  },
  {
   "cell_type": "code",
   "execution_count": null,
   "metadata": {},
   "outputs": [],
   "source": [
    "! bx cf service myiaeinstance"
   ]
  },
  {
   "cell_type": "markdown",
   "metadata": {},
   "source": [
    "---\n",
    "\n",
    "## Debugging \n",
    "\n",
    "TODO "
   ]
  },
  {
   "cell_type": "code",
   "execution_count": null,
   "metadata": {
    "collapsed": true
   },
   "outputs": [],
   "source": [
    "! bx cf services"
   ]
  },
  {
   "cell_type": "code",
   "execution_count": null,
   "metadata": {},
   "outputs": [],
   "source": [
    "! bx cf delete-service -f 'myiaeinstance'"
   ]
  },
  {
   "cell_type": "code",
   "execution_count": null,
   "metadata": {
    "collapsed": true
   },
   "outputs": [],
   "source": [
    "!cf delete-service-key -f 'IBM Analytics Engine-pj' 'Credentials-1'"
   ]
  },
  {
   "cell_type": "code",
   "execution_count": null,
   "metadata": {
    "collapsed": true
   },
   "outputs": [],
   "source": []
  }
 ],
 "metadata": {
  "kernelspec": {
   "display_name": "Python 3",
   "language": "python",
   "name": "python3"
  },
  "language_info": {
   "codemirror_mode": {
    "name": "ipython",
    "version": 2
   },
   "file_extension": ".py",
   "mimetype": "text/x-python",
   "name": "python",
   "nbconvert_exporter": "python",
   "pygments_lexer": "ipython2",
   "version": "2.7.13"
  }
 },
 "nbformat": 4,
 "nbformat_minor": 2
}
